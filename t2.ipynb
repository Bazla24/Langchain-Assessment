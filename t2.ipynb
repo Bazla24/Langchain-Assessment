{
  "nbformat": 4,
  "nbformat_minor": 0,
  "metadata": {
    "colab": {
      "provenance": [],
      "include_colab_link": true
    },
    "kernelspec": {
      "name": "python3",
      "display_name": "Python 3"
    },
    "language_info": {
      "name": "python"
    }
  },
  "cells": [
    {
      "cell_type": "markdown",
      "metadata": {
        "id": "view-in-github",
        "colab_type": "text"
      },
      "source": [
        "<a href=\"https://colab.research.google.com/github/Bazla24/Langchain-Assessment/blob/main/t2.ipynb\" target=\"_parent\"><img src=\"https://colab.research.google.com/assets/colab-badge.svg\" alt=\"Open In Colab\"/></a>"
      ]
    },
    {
      "cell_type": "markdown",
      "source": [
        "Design a detailed prompt to create personalized study plans for students. You have access\n",
        "to a range of information about each student. The prompt should direct the AI to thoroughly\n",
        "analyze the diverse array of student-specific data, encompassing their subjects and\n",
        "academic performance across different subjects, preferred learning styles (visual, auditory,\n",
        "kinesthetic), extracurricular activities, and distinct personal objectives or challenges (such as\n",
        "preparing for a specific exam or overcoming a learning difficulty). The prompt should be\n",
        "well-structured to ensure that the AI synthesizes this information to create a study plan that\n",
        "not only addresses academic requirements but also aligns with each student's unique needs\n",
        "and aspirations. Highlight how you would structure the prompt to ensure all-inclusive and\n",
        "individualized plans are generated.\n",
        "\n",
        "Note: Write a detailed and comprehensive prompt. Make sure that the prompt caters to each\n",
        "student’s specific needs."
      ],
      "metadata": {
        "id": "wUVojeoe54D2"
      }
    },
    {
      "cell_type": "code",
      "source": [
        "!pip -q install openai langchain"
      ],
      "metadata": {
        "colab": {
          "base_uri": "https://localhost:8080/"
        },
        "id": "kAUsEeH7Hbpv",
        "outputId": "a981edf8-d9da-44e5-c1cc-63d2b0449a3d"
      },
      "execution_count": 1,
      "outputs": [
        {
          "output_type": "stream",
          "name": "stdout",
          "text": [
            "\u001b[2K     \u001b[90m━━━━━━━━━━━━━━━━━━━━━━━━━━━━━━━━━━━━━━━━\u001b[0m \u001b[32m328.3/328.3 kB\u001b[0m \u001b[31m3.8 MB/s\u001b[0m eta \u001b[36m0:00:00\u001b[0m\n",
            "\u001b[2K     \u001b[90m━━━━━━━━━━━━━━━━━━━━━━━━━━━━━━━━━━━━━━━━\u001b[0m \u001b[32m975.5/975.5 kB\u001b[0m \u001b[31m12.4 MB/s\u001b[0m eta \u001b[36m0:00:00\u001b[0m\n",
            "\u001b[2K     \u001b[90m━━━━━━━━━━━━━━━━━━━━━━━━━━━━━━━━━━━━━━━━\u001b[0m \u001b[32m75.6/75.6 kB\u001b[0m \u001b[31m5.2 MB/s\u001b[0m eta \u001b[36m0:00:00\u001b[0m\n",
            "\u001b[2K     \u001b[90m━━━━━━━━━━━━━━━━━━━━━━━━━━━━━━━━━━━━━━━━\u001b[0m \u001b[32m337.4/337.4 kB\u001b[0m \u001b[31m10.9 MB/s\u001b[0m eta \u001b[36m0:00:00\u001b[0m\n",
            "\u001b[2K     \u001b[90m━━━━━━━━━━━━━━━━━━━━━━━━━━━━━━━━━━━━━━━━\u001b[0m \u001b[32m127.5/127.5 kB\u001b[0m \u001b[31m2.5 MB/s\u001b[0m eta \u001b[36m0:00:00\u001b[0m\n",
            "\u001b[2K     \u001b[90m━━━━━━━━━━━━━━━━━━━━━━━━━━━━━━━━━━━━━━━━\u001b[0m \u001b[32m77.9/77.9 kB\u001b[0m \u001b[31m3.7 MB/s\u001b[0m eta \u001b[36m0:00:00\u001b[0m\n",
            "\u001b[2K     \u001b[90m━━━━━━━━━━━━━━━━━━━━━━━━━━━━━━━━━━━━━━━━\u001b[0m \u001b[32m58.3/58.3 kB\u001b[0m \u001b[31m2.8 MB/s\u001b[0m eta \u001b[36m0:00:00\u001b[0m\n",
            "\u001b[2K     \u001b[90m━━━━━━━━━━━━━━━━━━━━━━━━━━━━━━━━━━━━━━━━\u001b[0m \u001b[32m141.1/141.1 kB\u001b[0m \u001b[31m3.2 MB/s\u001b[0m eta \u001b[36m0:00:00\u001b[0m\n",
            "\u001b[?25h"
          ]
        }
      ]
    },
    {
      "cell_type": "code",
      "execution_count": 2,
      "metadata": {
        "colab": {
          "base_uri": "https://localhost:8080/"
        },
        "collapsed": true,
        "id": "w-4bc4_Uvt5c",
        "outputId": "69bd606e-af21-405d-f84e-0d5245b07304"
      },
      "outputs": [
        {
          "output_type": "stream",
          "name": "stdout",
          "text": [
            "\n",
            "You are a creative study planner creator. You will create a personalized study plan for following students:\n",
            "Name: Jane Doe\n",
            "Field of Study: Computer Science\n",
            "Year of Study: 2nd Year\n",
            "List of Subjects: Algorithms, Data Structures, Databases, Operating Systems\n",
            "Preferred Learning Styles: Visual and Kinesthetic\n",
            "Personal Objectives: Prepare for internship interviews, excel in Algorithms\n",
            "Challenges: Struggles with time management, difficulty understanding Databases\n",
            "Extracurricular Activities: Coding Club, Basketball Team\n",
            "Please follow these detailed instructions to generate an all-inclusive and individualized study plan:\n",
            "\n",
            "1. Introduction:\n",
            "   - Begin with a personalized greeting addressing the student by name.\n",
            "   - Briefly summarize the student's field of study, year of study, and their personal objectives.\n",
            "\n",
            "2. Academic Analysis:\n",
            "   - Provide an overview of the subjects the student is currently studying.\n",
            "   - Analyze the student's academic performance in these subjects, highlighting areas of strength and areas that need improvement.\n",
            "\n",
            "3. Learning Styles:\n",
            "   - Discuss the student's preferred learning styles (visual, auditory, kinesthetic).\n",
            "   - Recommend study techniques and resources that align with these learning styles for each subject.\n",
            "\n",
            "4. Personal Objectives:\n",
            "   - Address the student's personal objectives, such as preparing for a specific exam, mastering a particular topic, or improving overall grades.\n",
            "   - Outline steps and strategies to achieve these objectives within the study plan.\n",
            "\n",
            "5. Challenges:\n",
            "   - Identify the challenges the student is facing, such as learning difficulties, time management issues, or specific subject-related problems.\n",
            "   - Propose actionable solutions and support resources to overcome these challenges.\n",
            "\n",
            "6. Extracurricular Activities:\n",
            "   - Consider the student's extracurricular activities and how they impact their study schedule.\n",
            "   - Suggest ways to balance academic responsibilities with extracurricular commitments, ensuring a well-rounded approach.\n",
            "\n",
            "7. Study Plan Structure:\n",
            "   - Provide a weekly study schedule, breaking down study sessions for each subject.\n",
            "   - Allocate time for reviewing and reinforcing previous lessons, practicing problem-solving, and preparing for exams.\n",
            "   - Include breaks and leisure activities to maintain a healthy balance.\n",
            "\n",
            "8. Additional Resources:\n",
            "   - Recommend additional resources such as online courses, study groups, tutors, and educational apps that can aid in the student's learning process.\n",
            "   - Encourage the student to seek help when needed and stay motivated.\n",
            "\n",
            "9. Conclusion:\n",
            "   - End with an encouraging note, motivating the student to follow the study plan and achieve their goals.\n",
            "   - Remind the student to periodically review and adjust the study plan as needed to stay on track.\n",
            "\n",
            "Ensure that the study plan is detailed, actionable, and tailored to the student's unique needs and aspirations. The plan should be flexible enough to adapt to any changes in the student's schedule or objectives.Also make sure that\n",
            "you use easy to understand language. Please avoid technical terms\n",
            "    \n"
          ]
        }
      ],
      "source": [
        "from langchain.prompts import PromptTemplate\n",
        "\n",
        "# Define the prompt template\n",
        "prompt_template = PromptTemplate(\n",
        "    input_variables = [\"name\", \"field_of_study\", \"year_of_study\", \"subjects\", \"preferred_learning_styles\", \"personal_objectives\", \"challenges\", \"extracurricular_activities\"],\n",
        "    template=\"\"\"\n",
        "You are a creative study planner creator. You will create a personalized study plan for following students:\n",
        "Name: {name}\n",
        "Field of Study: {field_of_study}\n",
        "Year of Study: {year_of_study}\n",
        "List of Subjects: {subjects}\n",
        "Preferred Learning Styles: {preferred_learning_styles}\n",
        "Personal Objectives: {personal_objectives}\n",
        "Challenges: {challenges}\n",
        "Extracurricular Activities: {extracurricular_activities}\n",
        "Please follow these detailed instructions to generate an all-inclusive and individualized study plan:\n",
        "\n",
        "1. Introduction:\n",
        "   - Begin with a personalized greeting addressing the student by name.\n",
        "   - Briefly summarize the student's field of study, year of study, and their personal objectives.\n",
        "\n",
        "2. Academic Analysis:\n",
        "   - Provide an overview of the subjects the student is currently studying.\n",
        "   - Analyze the student's academic performance in these subjects, highlighting areas of strength and areas that need improvement.\n",
        "\n",
        "3. Learning Styles:\n",
        "   - Discuss the student's preferred learning styles (visual, auditory, kinesthetic).\n",
        "   - Recommend study techniques and resources that align with these learning styles for each subject.\n",
        "\n",
        "4. Personal Objectives:\n",
        "   - Address the student's personal objectives, such as preparing for a specific exam, mastering a particular topic, or improving overall grades.\n",
        "   - Outline steps and strategies to achieve these objectives within the study plan.\n",
        "\n",
        "5. Challenges:\n",
        "   - Identify the challenges the student is facing, such as learning difficulties, time management issues, or specific subject-related problems.\n",
        "   - Propose actionable solutions and support resources to overcome these challenges.\n",
        "\n",
        "6. Extracurricular Activities:\n",
        "   - Consider the student's extracurricular activities and how they impact their study schedule.\n",
        "   - Suggest ways to balance academic responsibilities with extracurricular commitments, ensuring a well-rounded approach.\n",
        "\n",
        "7. Study Plan Structure:\n",
        "   - Provide a weekly study schedule, breaking down study sessions for each subject.\n",
        "   - Allocate time for reviewing and reinforcing previous lessons, practicing problem-solving, and preparing for exams.\n",
        "   - Include breaks and leisure activities to maintain a healthy balance.\n",
        "\n",
        "8. Additional Resources:\n",
        "   - Recommend additional resources such as online courses, study groups, tutors, and educational apps that can aid in the student's learning process.\n",
        "   - Encourage the student to seek help when needed and stay motivated.\n",
        "\n",
        "9. Conclusion:\n",
        "   - End with an encouraging note, motivating the student to follow the study plan and achieve their goals.\n",
        "   - Remind the student to periodically review and adjust the study plan as needed to stay on track.\n",
        "\n",
        "Ensure that the study plan is detailed, actionable, and tailored to the student's unique needs and aspirations. The plan should be flexible enough to adapt to any changes in the student's schedule or objectives.Also make sure that\n",
        "you use easy to understand language. Please avoid technical terms\n",
        "    \"\"\"\n",
        ")\n",
        "\n",
        "# Example usage\n",
        "student_info = {\n",
        "    \"name\": \"Jane Doe\",\n",
        "    \"field_of_study\": \"Computer Science\",\n",
        "    \"year_of_study\": \"2nd Year\",\n",
        "    \"subjects\": \"Algorithms, Data Structures, Databases, Operating Systems\",\n",
        "    \"preferred_learning_styles\": \"Visual and Kinesthetic\",\n",
        "    \"personal_objectives\": \"Prepare for internship interviews, excel in Algorithms\",\n",
        "    \"challenges\": \"Struggles with time management, difficulty understanding Databases\",\n",
        "    \"extracurricular_activities\": \"Coding Club, Basketball Team\"\n",
        "}\n",
        "\n",
        "# Generate the prompt\n",
        "prompt = prompt_template.format(**student_info)\n",
        "print(prompt)\n"
      ]
    },
    {
      "cell_type": "code",
      "source": [
        "from langchain.chains import LLMChain"
      ],
      "metadata": {
        "id": "z5_HCBCa7bcr"
      },
      "execution_count": 3,
      "outputs": []
    },
    {
      "cell_type": "code",
      "source": [
        "\n",
        "# tweet_prompt = PromptTemplate.from_template(\"You are a content creator. Write me a tweet about {topic}.\")\n",
        "\n",
        "# tweet_chain = LLMChain(llm=llm, prompt=tweet_prompt, verbose=True)\n",
        "# tweet_chain"
      ],
      "metadata": {
        "id": "jkwfdzzZ7l3j"
      },
      "execution_count": 4,
      "outputs": []
    },
    {
      "cell_type": "code",
      "source": [
        "# topic = \"how ai is really cool\"\n",
        "# resp = tweet_chain.run(topic=topic)\n",
        "# print(resp)"
      ],
      "metadata": {
        "id": "bHpwIBe479vo"
      },
      "execution_count": 5,
      "outputs": []
    },
    {
      "cell_type": "code",
      "source": [
        "import openai\n",
        "openai.__version__"
      ],
      "metadata": {
        "colab": {
          "base_uri": "https://localhost:8080/",
          "height": 36
        },
        "id": "c7yKVG2S_9Nn",
        "outputId": "a4d2a35c-7621-4f81-84fc-e7d8a545f1e6"
      },
      "execution_count": 4,
      "outputs": [
        {
          "output_type": "execute_result",
          "data": {
            "text/plain": [
              "'1.35.9'"
            ],
            "application/vnd.google.colaboratory.intrinsic+json": {
              "type": "string"
            }
          },
          "metadata": {},
          "execution_count": 4
        }
      ]
    },
    {
      "cell_type": "code",
      "source": [
        "from openai import AzureOpenAI"
      ],
      "metadata": {
        "id": "VrY_ZKtb_-n9"
      },
      "execution_count": 5,
      "outputs": []
    },
    {
      "cell_type": "code",
      "source": [
        "openai.api_type = \"azure\"\n",
        "openai.api_base = \"https://ai-pip-assistant-openai-station.openai.azure.com/\"\n",
        "openai.api_version = \"2024-02-15-preview\"\n",
        "openai.api_key = \"6e8bc564ecea4b3f864eab7e9b99ee8d\""
      ],
      "metadata": {
        "id": "wLqTMtki_5mB"
      },
      "execution_count": 5,
      "outputs": []
    },
    {
      "cell_type": "code",
      "source": [
        "prompt_template = PromptTemplate(\n",
        "    input_variables=[\"students\"],\n",
        "    template=\"\"\"\n",
        "You are a creative study planner creator. You will create personalized study plans for the following students and one inclusive study plan for all students:\n",
        "{students}\n",
        "\n",
        "Please follow these detailed instructions to generate both all-inclusive and individualized study plans:\n",
        "\n",
        "### Individual Study Plans:\n",
        "\n",
        "{%- for student in students -%}\n",
        "1. Introduction for {student.name}:\n",
        "   - Begin with a personalized greeting addressing the student by name.\n",
        "   - Briefly summarize the student's field of study, year of study, and their personal objectives.\n",
        "\n",
        "2. Academic Analysis:\n",
        "   - Provide an overview of the subjects the student is currently studying.\n",
        "   - Analyze the student's academic performance in these subjects, highlighting areas of strength and areas that need improvement.\n",
        "\n",
        "3. Learning Styles:\n",
        "   - Discuss the student's preferred learning styles (visual, auditory, kinesthetic).\n",
        "   - Recommend study techniques and resources that align with these learning styles for each subject.\n",
        "\n",
        "4. Personal Objectives:\n",
        "   - Address the student's personal objectives, such as preparing for a specific exam, mastering a particular topic, or improving overall grades.\n",
        "   - Outline steps and strategies to achieve these objectives within the study plan.\n",
        "\n",
        "5. Challenges:\n",
        "   - Identify the challenges the student is facing, such as learning difficulties, time management issues, or specific subject-related problems.\n",
        "   - Propose actionable solutions and support resources to overcome these challenges.\n",
        "\n",
        "6. Extracurricular Activities:\n",
        "   - Consider the student's extracurricular activities and how they impact their study schedule.\n",
        "   - Suggest ways to balance academic responsibilities with extracurricular commitments, ensuring a well-rounded approach.\n",
        "\n",
        "7. Study Plan Structure:\n",
        "   - Provide a weekly study schedule, breaking down study sessions for each subject.\n",
        "   - Allocate time for reviewing and reinforcing previous lessons, practicing problem-solving, and preparing for exams.\n",
        "   - Include breaks and leisure activities to maintain a healthy balance.\n",
        "\n",
        "8. Additional Resources:\n",
        "   - Recommend additional resources such as online courses, study groups, tutors, and educational apps that can aid in the student's learning process.\n",
        "   - Encourage the student to seek help when needed and stay motivated.\n",
        "\n",
        "9. Conclusion:\n",
        "   - End with an encouraging note, motivating the student to follow the study plan and achieve their goals.\n",
        "   - Remind the student to periodically review and adjust the study plan as needed to stay on track.\n",
        "\n",
        "{%- endfor %}\n",
        "\n",
        "### Inclusive Study Plan for All Students:\n",
        "\n",
        "1. Introduction:\n",
        "   - Begin with a general introduction, summarizing the common field of study and collective goals of the students.\n",
        "\n",
        "2. Academic Analysis:\n",
        "   - Provide a combined overview of the subjects being studied by the students.\n",
        "   - Highlight common areas of strength and areas that need improvement across the group.\n",
        "\n",
        "3. Learning Styles:\n",
        "   - Discuss the common learning styles among the students.\n",
        "   - Recommend study techniques and resources that cater to the collective learning styles for each subject.\n",
        "\n",
        "4. Personal Objectives:\n",
        "   - Address common personal objectives among the students, such as preparing for specific exams or mastering certain topics.\n",
        "   - Outline collective steps and strategies to achieve these objectives.\n",
        "\n",
        "5. Challenges:\n",
        "   - Identify common challenges faced by the students.\n",
        "   - Propose actionable solutions and support resources to overcome these challenges collectively.\n",
        "\n",
        "6. Extracurricular Activities:\n",
        "   - Consider common extracurricular activities and how they impact the study schedule.\n",
        "   - Suggest ways to balance academic responsibilities with extracurricular commitments.\n",
        "\n",
        "7. Study Plan Structure:\n",
        "   - Provide a weekly study schedule for the group, breaking down study sessions for each subject.\n",
        "   - Allocate time for group reviews, practice sessions, and exam preparations.\n",
        "   - Include breaks and group leisure activities to maintain a healthy balance.\n",
        "\n",
        "8. Additional Resources:\n",
        "   - Recommend additional resources that can be used by the group, such as study groups, group tutoring sessions, and collaborative online courses.\n",
        "   - Encourage the students to support each other and stay motivated.\n",
        "\n",
        "9. Conclusion:\n",
        "   - End with an encouraging note, motivating the students to follow the inclusive study plan and achieve their goals.\n",
        "   - Remind the students to periodically review and adjust the study plan as needed to stay on track.\n",
        "\n",
        "Ensure that both the individual and inclusive study plans are detailed, actionable, and tailored to the unique needs and aspirations of the students. The plans should be flexible enough to adapt to any changes in the students' schedules or objectives. Use easy-to-understand language and avoid technical terms.\n",
        "    \"\"\"\n",
        ")\n"
      ],
      "metadata": {
        "id": "4WPXyAcfFctw"
      },
      "execution_count": 7,
      "outputs": []
    },
    {
      "cell_type": "code",
      "source": [
        "pip install langchain-community langchain-core"
      ],
      "metadata": {
        "colab": {
          "base_uri": "https://localhost:8080/"
        },
        "id": "qP-yz9FiKnOQ",
        "outputId": "323e5a71-2f85-4ea6-f3d0-509a2d59407f"
      },
      "execution_count": 8,
      "outputs": [
        {
          "output_type": "stream",
          "name": "stdout",
          "text": [
            "Collecting langchain-community\n",
            "  Downloading langchain_community-0.2.6-py3-none-any.whl (2.2 MB)\n",
            "\u001b[2K     \u001b[90m━━━━━━━━━━━━━━━━━━━━━━━━━━━━━━━━━━━━━━━━\u001b[0m \u001b[32m2.2/2.2 MB\u001b[0m \u001b[31m11.4 MB/s\u001b[0m eta \u001b[36m0:00:00\u001b[0m\n",
            "\u001b[?25hRequirement already satisfied: langchain-core in /usr/local/lib/python3.10/dist-packages (0.2.11)\n",
            "Requirement already satisfied: PyYAML>=5.3 in /usr/local/lib/python3.10/dist-packages (from langchain-community) (6.0.1)\n",
            "Requirement already satisfied: SQLAlchemy<3,>=1.4 in /usr/local/lib/python3.10/dist-packages (from langchain-community) (2.0.31)\n",
            "Requirement already satisfied: aiohttp<4.0.0,>=3.8.3 in /usr/local/lib/python3.10/dist-packages (from langchain-community) (3.9.5)\n",
            "Collecting dataclasses-json<0.7,>=0.5.7 (from langchain-community)\n",
            "  Downloading dataclasses_json-0.6.7-py3-none-any.whl (28 kB)\n",
            "Requirement already satisfied: langchain<0.3.0,>=0.2.6 in /usr/local/lib/python3.10/dist-packages (from langchain-community) (0.2.6)\n",
            "Requirement already satisfied: langsmith<0.2.0,>=0.1.0 in /usr/local/lib/python3.10/dist-packages (from langchain-community) (0.1.83)\n",
            "Requirement already satisfied: numpy<2,>=1 in /usr/local/lib/python3.10/dist-packages (from langchain-community) (1.25.2)\n",
            "Requirement already satisfied: requests<3,>=2 in /usr/local/lib/python3.10/dist-packages (from langchain-community) (2.31.0)\n",
            "Requirement already satisfied: tenacity!=8.4.0,<9.0.0,>=8.1.0 in /usr/local/lib/python3.10/dist-packages (from langchain-community) (8.4.2)\n",
            "Requirement already satisfied: jsonpatch<2.0,>=1.33 in /usr/local/lib/python3.10/dist-packages (from langchain-core) (1.33)\n",
            "Requirement already satisfied: packaging<25,>=23.2 in /usr/local/lib/python3.10/dist-packages (from langchain-core) (24.1)\n",
            "Requirement already satisfied: pydantic<3,>=1 in /usr/local/lib/python3.10/dist-packages (from langchain-core) (2.7.4)\n",
            "Requirement already satisfied: aiosignal>=1.1.2 in /usr/local/lib/python3.10/dist-packages (from aiohttp<4.0.0,>=3.8.3->langchain-community) (1.3.1)\n",
            "Requirement already satisfied: attrs>=17.3.0 in /usr/local/lib/python3.10/dist-packages (from aiohttp<4.0.0,>=3.8.3->langchain-community) (23.2.0)\n",
            "Requirement already satisfied: frozenlist>=1.1.1 in /usr/local/lib/python3.10/dist-packages (from aiohttp<4.0.0,>=3.8.3->langchain-community) (1.4.1)\n",
            "Requirement already satisfied: multidict<7.0,>=4.5 in /usr/local/lib/python3.10/dist-packages (from aiohttp<4.0.0,>=3.8.3->langchain-community) (6.0.5)\n",
            "Requirement already satisfied: yarl<2.0,>=1.0 in /usr/local/lib/python3.10/dist-packages (from aiohttp<4.0.0,>=3.8.3->langchain-community) (1.9.4)\n",
            "Requirement already satisfied: async-timeout<5.0,>=4.0 in /usr/local/lib/python3.10/dist-packages (from aiohttp<4.0.0,>=3.8.3->langchain-community) (4.0.3)\n",
            "Collecting marshmallow<4.0.0,>=3.18.0 (from dataclasses-json<0.7,>=0.5.7->langchain-community)\n",
            "  Downloading marshmallow-3.21.3-py3-none-any.whl (49 kB)\n",
            "\u001b[2K     \u001b[90m━━━━━━━━━━━━━━━━━━━━━━━━━━━━━━━━━━━━━━━━\u001b[0m \u001b[32m49.2/49.2 kB\u001b[0m \u001b[31m7.2 MB/s\u001b[0m eta \u001b[36m0:00:00\u001b[0m\n",
            "\u001b[?25hCollecting typing-inspect<1,>=0.4.0 (from dataclasses-json<0.7,>=0.5.7->langchain-community)\n",
            "  Downloading typing_inspect-0.9.0-py3-none-any.whl (8.8 kB)\n",
            "Requirement already satisfied: jsonpointer>=1.9 in /usr/local/lib/python3.10/dist-packages (from jsonpatch<2.0,>=1.33->langchain-core) (3.0.0)\n",
            "Requirement already satisfied: langchain-text-splitters<0.3.0,>=0.2.0 in /usr/local/lib/python3.10/dist-packages (from langchain<0.3.0,>=0.2.6->langchain-community) (0.2.2)\n",
            "Requirement already satisfied: orjson<4.0.0,>=3.9.14 in /usr/local/lib/python3.10/dist-packages (from langsmith<0.2.0,>=0.1.0->langchain-community) (3.10.6)\n",
            "Requirement already satisfied: annotated-types>=0.4.0 in /usr/local/lib/python3.10/dist-packages (from pydantic<3,>=1->langchain-core) (0.7.0)\n",
            "Requirement already satisfied: pydantic-core==2.18.4 in /usr/local/lib/python3.10/dist-packages (from pydantic<3,>=1->langchain-core) (2.18.4)\n",
            "Requirement already satisfied: typing-extensions>=4.6.1 in /usr/local/lib/python3.10/dist-packages (from pydantic<3,>=1->langchain-core) (4.12.2)\n",
            "Requirement already satisfied: charset-normalizer<4,>=2 in /usr/local/lib/python3.10/dist-packages (from requests<3,>=2->langchain-community) (3.3.2)\n",
            "Requirement already satisfied: idna<4,>=2.5 in /usr/local/lib/python3.10/dist-packages (from requests<3,>=2->langchain-community) (3.7)\n",
            "Requirement already satisfied: urllib3<3,>=1.21.1 in /usr/local/lib/python3.10/dist-packages (from requests<3,>=2->langchain-community) (2.0.7)\n",
            "Requirement already satisfied: certifi>=2017.4.17 in /usr/local/lib/python3.10/dist-packages (from requests<3,>=2->langchain-community) (2024.6.2)\n",
            "Requirement already satisfied: greenlet!=0.4.17 in /usr/local/lib/python3.10/dist-packages (from SQLAlchemy<3,>=1.4->langchain-community) (3.0.3)\n",
            "Collecting mypy-extensions>=0.3.0 (from typing-inspect<1,>=0.4.0->dataclasses-json<0.7,>=0.5.7->langchain-community)\n",
            "  Downloading mypy_extensions-1.0.0-py3-none-any.whl (4.7 kB)\n",
            "Installing collected packages: mypy-extensions, marshmallow, typing-inspect, dataclasses-json, langchain-community\n",
            "Successfully installed dataclasses-json-0.6.7 langchain-community-0.2.6 marshmallow-3.21.3 mypy-extensions-1.0.0 typing-inspect-0.9.0\n"
          ]
        }
      ]
    },
    {
      "cell_type": "code",
      "source": [
        "!pip install openai==0.28"
      ],
      "metadata": {
        "colab": {
          "base_uri": "https://localhost:8080/",
          "height": 496
        },
        "collapsed": true,
        "id": "2YuPUrOlABMg",
        "outputId": "27771508-12d1-46b5-b44e-308faace424b"
      },
      "execution_count": 12,
      "outputs": [
        {
          "output_type": "stream",
          "name": "stdout",
          "text": [
            "Collecting openai==0.28\n",
            "  Downloading openai-0.28.0-py3-none-any.whl (76 kB)\n",
            "\u001b[?25l     \u001b[90m━━━━━━━━━━━━━━━━━━━━━━━━━━━━━━━━━━━━━━━━\u001b[0m \u001b[32m0.0/76.5 kB\u001b[0m \u001b[31m?\u001b[0m eta \u001b[36m-:--:--\u001b[0m\r\u001b[2K     \u001b[90m━━━━━━━━━━━━━━━━━━━━━━━━━━━━━━━━━━━━━━━━\u001b[0m \u001b[32m76.5/76.5 kB\u001b[0m \u001b[31m2.7 MB/s\u001b[0m eta \u001b[36m0:00:00\u001b[0m\n",
            "\u001b[?25hRequirement already satisfied: requests>=2.20 in /usr/local/lib/python3.10/dist-packages (from openai==0.28) (2.31.0)\n",
            "Requirement already satisfied: tqdm in /usr/local/lib/python3.10/dist-packages (from openai==0.28) (4.66.4)\n",
            "Requirement already satisfied: aiohttp in /usr/local/lib/python3.10/dist-packages (from openai==0.28) (3.9.5)\n",
            "Requirement already satisfied: charset-normalizer<4,>=2 in /usr/local/lib/python3.10/dist-packages (from requests>=2.20->openai==0.28) (3.3.2)\n",
            "Requirement already satisfied: idna<4,>=2.5 in /usr/local/lib/python3.10/dist-packages (from requests>=2.20->openai==0.28) (3.7)\n",
            "Requirement already satisfied: urllib3<3,>=1.21.1 in /usr/local/lib/python3.10/dist-packages (from requests>=2.20->openai==0.28) (2.0.7)\n",
            "Requirement already satisfied: certifi>=2017.4.17 in /usr/local/lib/python3.10/dist-packages (from requests>=2.20->openai==0.28) (2024.6.2)\n",
            "Requirement already satisfied: aiosignal>=1.1.2 in /usr/local/lib/python3.10/dist-packages (from aiohttp->openai==0.28) (1.3.1)\n",
            "Requirement already satisfied: attrs>=17.3.0 in /usr/local/lib/python3.10/dist-packages (from aiohttp->openai==0.28) (23.2.0)\n",
            "Requirement already satisfied: frozenlist>=1.1.1 in /usr/local/lib/python3.10/dist-packages (from aiohttp->openai==0.28) (1.4.1)\n",
            "Requirement already satisfied: multidict<7.0,>=4.5 in /usr/local/lib/python3.10/dist-packages (from aiohttp->openai==0.28) (6.0.5)\n",
            "Requirement already satisfied: yarl<2.0,>=1.0 in /usr/local/lib/python3.10/dist-packages (from aiohttp->openai==0.28) (1.9.4)\n",
            "Requirement already satisfied: async-timeout<5.0,>=4.0 in /usr/local/lib/python3.10/dist-packages (from aiohttp->openai==0.28) (4.0.3)\n",
            "Installing collected packages: openai\n",
            "  Attempting uninstall: openai\n",
            "    Found existing installation: openai 1.35.9\n",
            "    Uninstalling openai-1.35.9:\n",
            "      Successfully uninstalled openai-1.35.9\n",
            "Successfully installed openai-0.28.0\n"
          ]
        },
        {
          "output_type": "display_data",
          "data": {
            "application/vnd.colab-display-data+json": {
              "pip_warning": {
                "packages": [
                  "openai"
                ]
              },
              "id": "19e5c300ea3346029de4e2d3c96eb5ad"
            }
          },
          "metadata": {}
        }
      ]
    },
    {
      "cell_type": "code",
      "source": [
        "from langchain import PromptTemplate, LLMChain\n",
        "from langchain_community.chat_models import ChatOpenAI\n",
        "import openai\n",
        "\n",
        "\n",
        "# Initialize the OpenAI chat model\n",
        "chat_llm = ChatOpenAI(engine=\"gpt-35-turbo-16k\", api_key=\"6e8bc564ecea4b3f864eab7e9b99ee8d\")\n",
        "\n",
        "# Create the LLMChain\n",
        "llm_chain = LLMChain(prompt=prompt_template, llm=chat_llm)\n",
        "\n",
        "\n",
        "# Example usage\n",
        "def get_response(student_info):\n",
        "    try:\n",
        "        # Generate the prompt\n",
        "\n",
        "        formatted_prompt = prompt_template.format(students=student_info)\n",
        "\n",
        "        # Get the response using LLMChain\n",
        "        response = llm_chain.run({\"students\": student_info})\n",
        "\n",
        "        return response.strip()  # Clean up the response\n",
        "    except Exception as e:\n",
        "        return str(e)\n",
        "\n",
        "# Example usage\n",
        "students_info = [\n",
        "    {\n",
        "        \"name\": \"Jane Doe\",\n",
        "        \"field_of_study\": \"Computer Science\",\n",
        "        \"year_of_study\": \"2nd Year\",\n",
        "        \"subjects\": \"Algorithms, Data Structures, Databases, Operating Systems\",\n",
        "        \"preferred_learning_styles\": \"Visual and Kinesthetic\",\n",
        "        \"personal_objectives\": \"Prepare for internship interviews, excel in Algorithms\",\n",
        "        \"challenges\": \"Struggles with time management, difficulty understanding Databases\",\n",
        "        \"extracurricular_activities\": \"Coding Club, Basketball Team\"\n",
        "    },\n",
        "    {\n",
        "        \"name\": \"John Smith\",\n",
        "        \"field_of_study\": \"Mechanical Engineering\",\n",
        "        \"year_of_study\": \"3rd Year\",\n",
        "        \"subjects\": \"Thermodynamics, Fluid Mechanics, Mechanics of Materials\",\n",
        "        \"preferred_learning_styles\": \"Auditory and Kinesthetic\",\n",
        "        \"personal_objectives\": \"Improve grades in Thermodynamics, prepare for final year project\",\n",
        "        \"challenges\": \"Difficulty with theoretical concepts, balancing studies with part-time job\",\n",
        "        \"extracurricular_activities\": \"Robotics Club, Football Team\"\n",
        "    }\n",
        "]\n",
        "response = get_response(student_info)\n",
        "\n",
        "# Accessing specific data for the first student\n",
        "# first_student_name = students_info[0][\"name\"]\n",
        "# first_student_field_of_study = students_info[0][\"field_of_study\"]\n",
        "print(response)\n"
      ],
      "metadata": {
        "colab": {
          "base_uri": "https://localhost:8080/",
          "height": 384
        },
        "id": "BlW9D-XzGmPJ",
        "outputId": "474db21e-3e8d-44ab-fda7-3175dcdb4176"
      },
      "execution_count": 23,
      "outputs": [
        {
          "output_type": "stream",
          "name": "stderr",
          "text": [
            "WARNING:langchain_community.chat_models.openai:WARNING! engine is not default parameter.\n",
            "                    engine was transferred to model_kwargs.\n",
            "                    Please confirm that engine is what you intended.\n"
          ]
        },
        {
          "output_type": "error",
          "ename": "KeyError",
          "evalue": "0",
          "traceback": [
            "\u001b[0;31m---------------------------------------------------------------------------\u001b[0m",
            "\u001b[0;31mKeyError\u001b[0m                                  Traceback (most recent call last)",
            "\u001b[0;32m<ipython-input-23-126d3c657ae8>\u001b[0m in \u001b[0;36m<cell line: 51>\u001b[0;34m()\u001b[0m\n\u001b[1;32m     49\u001b[0m     }\n\u001b[1;32m     50\u001b[0m ]\n\u001b[0;32m---> 51\u001b[0;31m \u001b[0mresponse\u001b[0m \u001b[0;34m=\u001b[0m \u001b[0mget_response\u001b[0m\u001b[0;34m(\u001b[0m\u001b[0mstudent_info\u001b[0m\u001b[0;34m)\u001b[0m\u001b[0;34m\u001b[0m\u001b[0;34m\u001b[0m\u001b[0m\n\u001b[0m\u001b[1;32m     52\u001b[0m \u001b[0;34m\u001b[0m\u001b[0m\n\u001b[1;32m     53\u001b[0m \u001b[0;31m# Accessing specific data for the first student\u001b[0m\u001b[0;34m\u001b[0m\u001b[0;34m\u001b[0m\u001b[0m\n",
            "\u001b[0;32m<ipython-input-23-126d3c657ae8>\u001b[0m in \u001b[0;36mget_response\u001b[0;34m(student_data)\u001b[0m\n\u001b[1;32m     13\u001b[0m \u001b[0;31m# Example usage\u001b[0m\u001b[0;34m\u001b[0m\u001b[0;34m\u001b[0m\u001b[0m\n\u001b[1;32m     14\u001b[0m \u001b[0;32mdef\u001b[0m \u001b[0mget_response\u001b[0m\u001b[0;34m(\u001b[0m\u001b[0mstudent_data\u001b[0m\u001b[0;34m)\u001b[0m\u001b[0;34m:\u001b[0m\u001b[0;34m\u001b[0m\u001b[0;34m\u001b[0m\u001b[0m\n\u001b[0;32m---> 15\u001b[0;31m     \u001b[0mprint\u001b[0m\u001b[0;34m(\u001b[0m\u001b[0mstudent_data\u001b[0m\u001b[0;34m[\u001b[0m\u001b[0;36m0\u001b[0m\u001b[0;34m]\u001b[0m\u001b[0;34m[\u001b[0m\u001b[0;34m'name'\u001b[0m\u001b[0;34m]\u001b[0m\u001b[0;34m)\u001b[0m\u001b[0;34m\u001b[0m\u001b[0;34m\u001b[0m\u001b[0m\n\u001b[0m\u001b[1;32m     16\u001b[0m     \u001b[0;32mtry\u001b[0m\u001b[0;34m:\u001b[0m\u001b[0;34m\u001b[0m\u001b[0;34m\u001b[0m\u001b[0m\n\u001b[1;32m     17\u001b[0m         \u001b[0;31m# Generate the prompt\u001b[0m\u001b[0;34m\u001b[0m\u001b[0;34m\u001b[0m\u001b[0m\n",
            "\u001b[0;31mKeyError\u001b[0m: 0"
          ]
        }
      ]
    },
    {
      "cell_type": "markdown",
      "source": [
        "GeneratGenerate a concise summary of the book \"Crime and Punishment\"(https://drive.google.com/file/d/1WYaEoSozvUmJ_Lt5clAVs8NuSu43h9ps/view) limited to 20 pages.\n",
        "Task Details:\n",
        "1. Source Material:\n",
        "- Book Title: Crime and Punishment\n",
        "- Provided link\n",
        "2. Output Requirements:\n",
        "- The summary should be concise and limited to 20 pages.\n",
        "- The summary should be presented in a PDF format.e a concise summary of the book \"Crime and Punishment\" limited to 20 pages.\n",
        "Task Details:\n",
        "1. Source Material:\n",
        "- Book Title: Crime and Punishment\n",
        "- Provided link\n",
        "2. Output Requirements:\n",
        "- The summary should be concise and limited to 20 pages.\n",
        "### - The summary should be presented in a PDF format."
      ],
      "metadata": {
        "id": "2vyVS5MS5kMc"
      }
    },
    {
      "cell_type": "code",
      "source": [],
      "metadata": {
        "colab": {
          "base_uri": "https://localhost:8080/"
        },
        "id": "giBNefe90m-G",
        "outputId": "dde6d39a-9da5-4b53-b63e-6e03a04b4592"
      },
      "execution_count": 10,
      "outputs": [
        {
          "output_type": "stream",
          "name": "stdout",
          "text": [
            "Missing some input keys: {'%- for student in students -%', '%- endfor %', 'student.name'}\n"
          ]
        }
      ]
    },
    {
      "cell_type": "markdown",
      "source": [
        "Task1:\n",
        "Book summarization:\n"
      ],
      "metadata": {
        "id": "Ib40efFw4YTM"
      }
    }
  ]
}